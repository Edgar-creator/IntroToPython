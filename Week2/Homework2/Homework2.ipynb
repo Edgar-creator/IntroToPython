{
 "cells": [
  {
   "cell_type": "code",
   "execution_count": 6,
   "metadata": {},
   "outputs": [
    {
     "name": "stdout",
     "output_type": "stream",
     "text": [
      "years 5\n",
      "days 5\n",
      "Current date:  2020-05-06 05:06:05.000006\n",
      "Given years:  5\n",
      "Given days:  5\n",
      "Final date:  2025-05-10 05:06:05.000006\n"
     ]
    }
   ],
   "source": [
    "#Problem 1\n",
    "num_y = int(input(\"years \"))\n",
    "num_d = int(input(\"days \"))\n",
    "import datetime\n",
    "day = datetime.datetime(2020,5,6,5,6,5,6)\n",
    "print(\"Current date: \",day)\n",
    "print(\"Given years: \",num_y)\n",
    "print(\"Given days: \",num_d)\n",
    "tdelta = datetime.timedelta(days = num_d + num_y * 365)\n",
    "print(\"Final date: \",day + tdelta)"
   ]
  },
  {
   "cell_type": "code",
   "execution_count": 23,
   "metadata": {},
   "outputs": [
    {
     "name": "stdout",
     "output_type": "stream",
     "text": [
      " Input 7 or more characters and an odd number of characters.aaaaaaa\n",
      "The old string:  aaaaaaa\n",
      "Middle 3 characters: aaa\n",
      "The new string: AAAAAAa\n",
      "The new string: aaAAAaa\n"
     ]
    }
   ],
   "source": [
    "#Problem 2\n",
    "text = input(\" Input 7 or more characters and an odd number of characters.\")\n",
    "print(\"The old string: \",text)\n",
    "n = int(len(text) / 2) - 1\n",
    "print(\"Middle 3 characters:\",text[n:n +3])\n",
    "print(\"The new string:\",text[0:n] +text[n:n +3].upper() + text[n +3:])"
   ]
  },
  {
   "cell_type": "code",
   "execution_count": 25,
   "metadata": {},
   "outputs": [
    {
     "name": "stdout",
     "output_type": "stream",
     "text": [
      "This text is a sample text.\n",
      "text\n",
      "image\n",
      "The given text: This text is a sample text.\n",
      "First Word: text\n",
      "Second Word: image\n",
      "Output string: This image is a sample image.\n"
     ]
    }
   ],
   "source": [
    "#Problem 3\n",
    "text = input()\n",
    "first_word = input()\n",
    "second_word = input()\n",
    "print(\"The given text:\",text)\n",
    "print(\"First Word:\",first_word)\n",
    "print(\"Second Word:\",second_word)\n",
    "print(\"Output string:\",text.replace(first_word,second_word))"
   ]
  },
  {
   "cell_type": "code",
   "execution_count": 28,
   "metadata": {},
   "outputs": [
    {
     "name": "stdout",
     "output_type": "stream",
     "text": [
      "The USA/usa count is:\n",
      "The given string: The USA/usa count is:\n",
      "The USA/usa count is: 2\n",
      "the Armenia/Armenia count is:\n"
     ]
    }
   ],
   "source": [
    "#Problem 4\n",
    "text = input()\n",
    "print(\"The given string:\",text)\n",
    "print(\"The USA/usa count is:\",text.count(\"USA\") + text.count(\"usa\"))\n",
    "print(text.lower().replace(\"usa\",\"Armenia\"))"
   ]
  },
  {
   "cell_type": "code",
   "execution_count": 43,
   "metadata": {},
   "outputs": [
    {
     "name": "stdout",
     "output_type": "stream",
     "text": [
      "1996-08-15\n",
      "1996\n",
      "8\n",
      "15\n",
      "3\n",
      "147 days, 0:00:00\n",
      "      May 2017\n",
      "Mo Tu We Th Fr Sa Su\n",
      " 1  2  3  4  5  6  7\n",
      " 8  9 10 11 12 13 14\n",
      "15 16 17 18 19 20 21\n",
      "22 23 24 25 26 27 28\n",
      "29 30 31\n",
      "\n",
      "2020-03-20 19:40:12.369074\n",
      "2020-03-22 19:40:12.369074\n",
      "2020-03-17 19:40:12.369074\n"
     ]
    }
   ],
   "source": [
    "#Problem 5\n",
    "import datetime\n",
    "import time\n",
    "import calendar\n",
    "bday = datetime.date(1996,8,15)\n",
    "print(bday)\n",
    "print(bday.year)\n",
    "print(bday.month)\n",
    "print(bday.day)\n",
    "print(bday.weekday())\n",
    "print(datetime.date(2020,8,15) - datetime.date.today())\n",
    "print(calendar.month(2017,5))\n",
    "tdelta = datetime.timedelta(days = 1)\n",
    "print(datetime.datetime.today() - tdelta)\n",
    "yes_day = datetime.datetime.today() - tdelta\n",
    "print(yes_day + 2 * tdelta)\n",
    "print(yes_day - 3 * tdelta)\n"
   ]
  },
  {
   "cell_type": "code",
   "execution_count": null,
   "metadata": {},
   "outputs": [],
   "source": []
  }
 ],
 "metadata": {
  "kernelspec": {
   "display_name": "Python 3",
   "language": "python",
   "name": "python3"
  },
  "language_info": {
   "codemirror_mode": {
    "name": "ipython",
    "version": 3
   },
   "file_extension": ".py",
   "mimetype": "text/x-python",
   "name": "python",
   "nbconvert_exporter": "python",
   "pygments_lexer": "ipython3",
   "version": "3.7.4"
  }
 },
 "nbformat": 4,
 "nbformat_minor": 2
}
