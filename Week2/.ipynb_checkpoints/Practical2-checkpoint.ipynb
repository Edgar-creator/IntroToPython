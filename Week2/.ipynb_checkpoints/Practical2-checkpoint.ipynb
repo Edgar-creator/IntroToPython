{
 "cells": [
  {
   "cell_type": "code",
   "execution_count": 2,
   "metadata": {},
   "outputs": [
    {
     "name": "stdout",
     "output_type": "stream",
     "text": [
      "Please input your nameEdgar\n",
      "Please input your Last NameBabayan\n",
      "Name:  Edgar\n",
      "Last Name:  Babayan\n"
     ]
    }
   ],
   "source": [
    "name = input(\"Please input your name\")\n",
    "last_name = input(\"Please input your Last Name \")\n",
    "print(\"Name: \",name)\n",
    "print(\"Last Name: \",last_name)"
   ]
  },
  {
   "cell_type": "code",
   "execution_count": 3,
   "metadata": {},
   "outputs": [
    {
     "name": "stdout",
     "output_type": "stream",
     "text": [
      "5\n",
      "5\n",
      "First number: 5\n",
      "Second number: 5\n",
      "Sum: 10\n"
     ]
    }
   ],
   "source": [
    "num1 = int(input())\n",
    "num2 = int(input())\n",
    "sum = num1 + num2\n",
    "print(\"First number:\",num1)\n",
    "print(\"Second number:\",num2)\n",
    "print(\"Sum:\",sum)"
   ]
  },
  {
   "cell_type": "code",
   "execution_count": 6,
   "metadata": {},
   "outputs": [
    {
     "name": "stdout",
     "output_type": "stream",
     "text": [
      "24\n",
      "Happy Birthday, you are already 24 years old!\n"
     ]
    }
   ],
   "source": [
    "age = int(input())\n",
    "print(\"Happy Birthday, you are already %s years old!\" %age)"
   ]
  },
  {
   "cell_type": "code",
   "execution_count": 7,
   "metadata": {},
   "outputs": [
    {
     "name": "stdout",
     "output_type": "stream",
     "text": [
      "A sAmple Text\n",
      "A sAmple Text\n",
      "a sample text\n",
      "A SAMPLE TEXT\n"
     ]
    }
   ],
   "source": [
    "text = input()\n",
    "print(text)\n",
    "print(text.lower())\n",
    "print(text.upper())"
   ]
  },
  {
   "cell_type": "code",
   "execution_count": 14,
   "metadata": {},
   "outputs": [
    {
     "name": "stdout",
     "output_type": "stream",
     "text": [
      "aaabbcccddee\n",
      "# of a: 3\n",
      "# of a: 2\n",
      "# of a: 3\n",
      "# of a: 2\n",
      "# of a: 2\n"
     ]
    }
   ],
   "source": [
    "text1 = input()\n",
    "print(\"# of a:\",text1.count(\"a\"))\n",
    "print(\"# of a:\",text1.count(\"b\"))\n",
    "print(\"# of a:\",text1.count(\"c\"))\n",
    "print(\"# of a:\",text1.count(\"d\"))\n",
    "print(\"# of a:\",text1.count(\"e\"))"
   ]
  },
  {
   "cell_type": "code",
   "execution_count": 25,
   "metadata": {},
   "outputs": [
    {
     "name": "stdout",
     "output_type": "stream",
     "text": [
      "How are you Edgar?\n",
      "How are you Edgar?\n"
     ]
    }
   ],
   "source": [
    "str1 = \"How are you John?\"\n",
    "name = \"Edgar\"\n",
    "str2 = str1[0:-5] + name +\"?\"\n",
    "print(str2)\n",
    "str2 = str1.replace(\"John\",name)\n",
    "print(str2)"
   ]
  },
  {
   "cell_type": "code",
   "execution_count": 20,
   "metadata": {},
   "outputs": [
    {
     "ename": "SyntaxError",
     "evalue": "invalid syntax (<ipython-input-20-d7533c8e8f84>, line 6)",
     "output_type": "error",
     "traceback": [
      "\u001b[1;36m  File \u001b[1;32m\"<ipython-input-20-d7533c8e8f84>\"\u001b[1;36m, line \u001b[1;32m6\u001b[0m\n\u001b[1;33m    For %s years\"\"\" %country,%years)\u001b[0m\n\u001b[1;37m                                    \n^\u001b[0m\n\u001b[1;31mSyntaxError\u001b[0m\u001b[1;31m:\u001b[0m invalid syntax\n"
     ]
    }
   ],
   "source": [
    "country = \"Armenia\"\n",
    "years = 10\n",
    "print(\"\"\"Hi, where are you from?\n",
    "I’m from %s\n",
    "How long have you lived here?\n",
    "For %s years\"\"\" %country,%years)"
   ]
  },
  {
   "cell_type": "code",
   "execution_count": 26,
   "metadata": {},
   "outputs": [
    {
     "name": "stdout",
     "output_type": "stream",
     "text": [
      "ghdfytyfghftyeyiukuyf\n",
      "2\n",
      "5\n",
      "The given text:  ghdfytyfghftyeyiukuyf\n",
      "2\n",
      "5\n",
      "dfyt\n"
     ]
    }
   ],
   "source": [
    "text = input()\n",
    "start_index = int(input())\n",
    "end_index = int(input())\n",
    "print(\"The given text: \",text)\n",
    "print(start_index)\n",
    "print(end_index)\n",
    "print(text[start_index:end_index + 1])"
   ]
  },
  {
   "cell_type": "code",
   "execution_count": null,
   "metadata": {},
   "outputs": [],
   "source": [
    "import time\n",
    "import calendar\n",
    "import datetime"
   ]
  }
 ],
 "metadata": {
  "kernelspec": {
   "display_name": "Python 3",
   "language": "python",
   "name": "python3"
  },
  "language_info": {
   "codemirror_mode": {
    "name": "ipython",
    "version": 3
   },
   "file_extension": ".py",
   "mimetype": "text/x-python",
   "name": "python",
   "nbconvert_exporter": "python",
   "pygments_lexer": "ipython3",
   "version": "3.7.4"
  }
 },
 "nbformat": 4,
 "nbformat_minor": 2
}
