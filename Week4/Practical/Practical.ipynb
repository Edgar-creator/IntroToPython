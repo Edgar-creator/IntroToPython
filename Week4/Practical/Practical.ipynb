{
 "cells": [
  {
   "cell_type": "code",
   "execution_count": 31,
   "metadata": {},
   "outputs": [
    {
     "name": "stdout",
     "output_type": "stream",
     "text": [
      "100\n",
      "200\n",
      "The number 200 is the greatest.\n"
     ]
    }
   ],
   "source": [
    "#Problem1\n",
    "n1 = int(input())\n",
    "n2 = int(input())\n",
    "print(\"The number %s is the greatest.\" % max(n1,n2))"
   ]
  },
  {
   "cell_type": "code",
   "execution_count": 32,
   "metadata": {},
   "outputs": [
    {
     "name": "stdout",
     "output_type": "stream",
     "text": [
      "rectangle\n"
     ]
    }
   ],
   "source": [
    "#Problem2\n",
    "a = 100\n",
    "b = 250\n",
    "if a == b:\n",
    "    print(\"square\")\n",
    "else:\n",
    "    print(\"rectangle\")"
   ]
  },
  {
   "cell_type": "code",
<<<<<<< HEAD
   "execution_count": 3,
=======
   "execution_count": 8,
>>>>>>> 5dc6373c26865e2be31145c793a29aa460a49323
   "metadata": {},
   "outputs": [
    {
     "name": "stdout",
     "output_type": "stream",
     "text": [
      "Please enter a different password\n"
     ]
    }
   ],
   "source": [
    "#Problem3\n",
    "name = \"Messi\"\n",
    "age = 16\n",
    "password = \"Football\"\n",
    "if name == \"Batman\":\n",
    "    print(\"Welcome Mr. Batman!\")\n",
    "elif age < 16:\n",
    "    print(\"Dear %s, you are too young to register\" % name)\n",
    "else:\n",
<<<<<<< HEAD
    "    if (\"*\" not in password) or (\"&\" not in password):\n",
=======
    "    if age < 16:\n",
    "        print(\"Dear %s, you are too young to register\" % name)\n",
    "    elif (\"*\" not in password) and (\"&\" not in password):\n",
>>>>>>> 5dc6373c26865e2be31145c793a29aa460a49323
    "        print(\"Please enter a different password\")\n"
   ]
  },
  {
   "cell_type": "code",
   "execution_count": 9,
   "metadata": {},
   "outputs": [
    {
     "name": "stdout",
     "output_type": "stream",
     "text": [
      "4\n"
     ]
    }
   ],
   "source": [
    "#Problem4\n",
    "d =  {\"name\": \"Armen\", \"age\": 15, \"grades\": [10, 8,8, 4, 6, 7] }\n",
    "if \"weight\" not in d:\n",
    "    n = int(input())\n",
    "    d[\"weight\"] = n\n",
    "else:\n",
    "    print([\"weight\"])"
   ]
  },
  {
   "cell_type": "code",
   "execution_count": 40,
   "metadata": {},
   "outputs": [
    {
     "name": "stdout",
     "output_type": "stream",
     "text": [
      "1 3 5 7 9 11 13 15 17 19 21 23 25 27 29 31 33 35 37 39 41 43 45 47 49 51 53 55 57 59 61 63 65 67 69 71 73 75 77 79 81 83 85 87 89 91 93 95 97 99 "
     ]
    }
   ],
   "source": [
    "#Problem5\n",
    "for i in range(100):\n",
    "    if i % 2 == 0:\n",
    "        continue\n",
    "    print(i,end=\" \")"
   ]
  },
  {
   "cell_type": "code",
   "execution_count": 1,
   "metadata": {},
   "outputs": [
    {
     "name": "stdout",
     "output_type": "stream",
     "text": [
      "0 1 3 5 6 "
     ]
    }
   ],
   "source": [
    "#Problem6\n",
    "for i in range(7):\n",
    "    if i == 2 or i == 4:\n",
    "        continue\n",
    "    print(i,end=\" \")"
   ]
  },
  {
   "cell_type": "code",
   "execution_count": 45,
   "metadata": {},
   "outputs": [
    {
     "name": "stdout",
     "output_type": "stream",
     "text": [
      "1 2 3 4 5 6 7 8 9 10 11 12 13 14 "
     ]
    }
   ],
   "source": [
    "#Problem7\n",
    "for i in range(1,21):\n",
    "    if (i % 3 == 0) and  (i % 5 == 0):\n",
    "        break\n",
    "    print(i,end=\" \")    "
   ]
  },
  {
   "cell_type": "code",
   "execution_count": 46,
   "metadata": {},
   "outputs": [
    {
     "name": "stdout",
     "output_type": "stream",
     "text": [
      "5 7 -7 abc 2 4 True "
     ]
    }
   ],
   "source": [
    "#Problem8\n",
    "list1 = [5, 7, -7, 'abc', 2, 4, True, 3, 4, 6, 7, 7]\n",
    "for i in list1:\n",
    "    if i == 3:\n",
    "        break\n",
    "    print(i,end=\" \")"
   ]
  },
  {
   "cell_type": "code",
   "execution_count": 3,
   "metadata": {},
   "outputs": [
    {
     "name": "stdout",
     "output_type": "stream",
     "text": [
      "4\n",
      "6\n",
      "5\n",
      "That was a good guess!\n"
     ]
    }
   ],
   "source": [
    "#Problem9\n",
    "correct_num = 5\n",
    "guess = int(input())\n",
    "while guess != correct_num:\n",
    "    guess = int(input())\n",
    "print(\"That was a good guess!\")"
   ]
  },
  {
   "cell_type": "code",
   "execution_count": 56,
   "metadata": {},
   "outputs": [
    {
     "data": {
      "text/plain": [
       "[7, 25, 27]"
      ]
     },
     "execution_count": 56,
     "metadata": {},
     "output_type": "execute_result"
    }
   ],
   "source": [
    "#Problem10\n",
    "num = [7,8, 120, 25, 44, 20, 27]\n",
    "num1 = [i for i in num if i % 2 != 0 ]\n",
    "print(num)\n",
    "print(num1)"
   ]
  },
  {
   "cell_type": "code",
   "execution_count": 12,
   "metadata": {},
   "outputs": [
    {
     "name": "stdout",
     "output_type": "stream",
     "text": [
      "[1, 4, 9, 16, 25, 36, 49, 64, 81, 100, 121, 144, 169, 196, 225, 256, 289, 324, 361, 400, 441, 484, 529, 576, 625, 676, 729, 784, 841, 900, 961, 1024, 1089, 1156, 1225, 1296, 1369, 1444, 1521, 1600, 1681, 1764, 1849, 1936, 2025, 2116, 2209, 2304, 2401]\n"
     ]
    }
   ],
   "source": [
    "#Problem11\n",
    "list3 = [i * i  for i in range(1,50)]\n",
    "print(list3)"
   ]
  },
  {
   "cell_type": "code",
   "execution_count": 2,
   "metadata": {},
   "outputs": [
    {
     "data": {
      "text/plain": [
       "[85, 154]"
      ]
     },
     "execution_count": 2,
     "metadata": {},
     "output_type": "execute_result"
    }
   ],
   "source": [
    "#Problem12\n",
    "list1 = [1,3,5,6,85,154]\n",
    "list2 = [i for i in list1 if i > 20]\n",
    "list2"
   ]
  },
  {
   "cell_type": "code",
   "execution_count": 14,
   "metadata": {},
   "outputs": [
    {
     "name": "stdout",
     "output_type": "stream",
     "text": [
      "hgtfc\n",
      "hgtfc \n",
      " ['h', 'g', 't', 'f', 'c']\n"
     ]
    }
   ],
   "source": [
    "#Problem13\n",
    "str1 = input()\n",
    "l1 = [str1[i] for i in range(len(str1))]\n",
    "print(str1 ,\"\\n\",l1)"
   ]
  },
  {
   "cell_type": "code",
   "execution_count": 68,
   "metadata": {},
   "outputs": [
    {
     "data": {
      "text/plain": [
       "['aba', '1221']"
      ]
     },
     "execution_count": 68,
     "metadata": {},
     "output_type": "execute_result"
    }
   ],
   "source": [
    "#Problem14\n",
    "list1 = [\"a\", \"abc\", \"xyz\", \"s\", \"aba\", \"1221\"]\n",
    "l = [i for i in list1 if len(str(i)) > 2 and i[0] == i [-1]]\n",
    "l"
   ]
  }
 ],
 "metadata": {
  "kernelspec": {
   "display_name": "Python 3",
   "language": "python",
   "name": "python3"
  },
  "language_info": {
   "codemirror_mode": {
    "name": "ipython",
    "version": 3
   },
   "file_extension": ".py",
   "mimetype": "text/x-python",
   "name": "python",
   "nbconvert_exporter": "python",
   "pygments_lexer": "ipython3",
   "version": "3.7.4"
  }
 },
 "nbformat": 4,
 "nbformat_minor": 2
}
