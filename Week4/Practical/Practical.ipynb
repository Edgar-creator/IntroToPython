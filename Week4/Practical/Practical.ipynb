{
 "cells": [
  {
   "cell_type": "code",
   "execution_count": 31,
   "metadata": {},
   "outputs": [
    {
     "name": "stdout",
     "output_type": "stream",
     "text": [
      "100\n",
      "200\n",
      "The number 200 is the greatest.\n"
     ]
    }
   ],
   "source": [
    "#Problem1\n",
    "n1 = int(input())\n",
    "n2 = int(input())\n",
    "print(\"The number %s is the greatest.\" % max(n1,n2))"
   ]
  },
  {
   "cell_type": "code",
   "execution_count": 32,
   "metadata": {},
   "outputs": [
    {
     "name": "stdout",
     "output_type": "stream",
     "text": [
      "rectangle\n"
     ]
    }
   ],
   "source": [
    "#Problem2\n",
    "a = 100\n",
    "b = 250\n",
    "if a == b:\n",
    "    print(\"square\")\n",
    "else:\n",
    "    print(\"rectangle\")"
   ]
  },
  {
   "cell_type": "code",
   "execution_count": 55,
   "metadata": {},
   "outputs": [
    {
     "name": "stdout",
     "output_type": "stream",
     "text": [
      "Dear Messi, you are too young to register\n"
     ]
    }
   ],
   "source": [
    "#Problem3\n",
    "name = \"Messi\"\n",
    "age = 15\n",
    "password = \"Football\"\n",
    "if name == \"Batman\":\n",
    "    print(\"Welcome Mr. Batman!\")\n",
    "else:\n",
    "    if age < 16:\n",
    "        print(\"Dear %s, you are too young to register\" % name)\n",
    "    elif (\"*\" not in password) or (\"&\" not in password):\n",
    "        print(\"Please enter a different password\")\n"
   ]
  },
  {
   "cell_type": "code",
   "execution_count": 37,
   "metadata": {},
   "outputs": [
    {
     "name": "stdout",
     "output_type": "stream",
     "text": [
      "5\n"
     ]
    }
   ],
   "source": [
    "#Problem4\n",
    "d =  {\"name\": \"Armen\", \"age\": 15, \"grades\": [10, 8,8, 4, 6, 7] }\n",
    "if \"weight\" not in d:\n",
    "    n = int(input())\n",
    "    d[\"weight\"] = n\n",
    "else:\n",
    "    print([weight])"
   ]
  },
  {
   "cell_type": "code",
   "execution_count": 40,
   "metadata": {},
   "outputs": [
    {
     "name": "stdout",
     "output_type": "stream",
     "text": [
      "1 3 5 7 9 11 13 15 17 19 21 23 25 27 29 31 33 35 37 39 41 43 45 47 49 51 53 55 57 59 61 63 65 67 69 71 73 75 77 79 81 83 85 87 89 91 93 95 97 99 "
     ]
    }
   ],
   "source": [
    "#Problem5\n",
    "for i in range(100):\n",
    "    if i % 2 == 0:\n",
    "        continue\n",
    "    print(i,end=\" \")"
   ]
  },
  {
   "cell_type": "code",
   "execution_count": 41,
   "metadata": {},
   "outputs": [
    {
     "name": "stdout",
     "output_type": "stream",
     "text": [
      "0\n",
      "1\n",
      "3\n",
      "5\n",
      "6\n"
     ]
    }
   ],
   "source": [
    "#Problem6\n",
    "for i in range(7):\n",
    "    if i == 2 or i == 4:\n",
    "        continue\n",
    "    print(i)"
   ]
  },
  {
   "cell_type": "code",
   "execution_count": 45,
   "metadata": {},
   "outputs": [
    {
     "name": "stdout",
     "output_type": "stream",
     "text": [
      "1 2 3 4 5 6 7 8 9 10 11 12 13 14 "
     ]
    }
   ],
   "source": [
    "#Problem7\n",
    "for i in range(1,21):\n",
    "    if (i % 3 == 0) and  (i % 5 == 0):\n",
    "        break\n",
    "    print(i,end=\" \")    "
   ]
  },
  {
   "cell_type": "code",
   "execution_count": 46,
   "metadata": {},
   "outputs": [
    {
     "name": "stdout",
     "output_type": "stream",
     "text": [
      "5 7 -7 abc 2 4 True "
     ]
    }
   ],
   "source": [
    "#Problem8\n",
    "list1 = [5, 7, -7, 'abc', 2, 4, True, 3, 4, 6, 7, 7]\n",
    "for i in list1:\n",
    "    if i == 3:\n",
    "        break\n",
    "    print(i,end=\" \")"
   ]
  },
  {
   "cell_type": "code",
   "execution_count": 50,
   "metadata": {},
   "outputs": [
    {
     "name": "stdout",
     "output_type": "stream",
     "text": [
      "6\n",
      "8\n",
      "9\n",
      "5\n",
      "That was a good guess!\n"
     ]
    }
   ],
   "source": [
    "#Problem9\n",
    "correct_num = 5\n",
    "guess = int(input())\n",
    "if guess == correct_num:\n",
    "    print(\"That was a good guess!\")\n",
    "else:\n",
    "    while guess != correct_num:\n",
    "        guess = int(input())\n",
    "    print(\"That was a good guess!\")"
   ]
  },
  {
   "cell_type": "code",
   "execution_count": 56,
   "metadata": {},
   "outputs": [
    {
     "data": {
      "text/plain": [
       "[7, 25, 27]"
      ]
     },
     "execution_count": 56,
     "metadata": {},
     "output_type": "execute_result"
    }
   ],
   "source": [
    "#Problem10\n",
    "num = [7,8, 120, 25, 44, 20, 27]\n",
    "num1 = [i for i in num if i % 2 != 0 ]\n",
    "print(num)\n",
    "print(num1)"
   ]
  },
  {
   "cell_type": "code",
   "execution_count": 57,
   "metadata": {},
   "outputs": [
    {
     "name": "stdout",
     "output_type": "stream",
     "text": [
      "[1, 2, 3, 4, 5, 6, 7, 8, 9, 10, 11, 12, 13, 14, 15, 16, 17, 18, 19, 20, 21, 22, 23, 24, 25, 26, 27, 28, 29, 30, 31, 32, 33, 34, 35, 36, 37, 38, 39, 40, 41, 42, 43, 44, 45, 46, 47, 48, 49]\n"
     ]
    }
   ],
   "source": [
    "#Problem11\n",
    "list3 = [i for i in range(1,50)]\n",
    "print(list3)"
   ]
  },
  {
   "cell_type": "code",
   "execution_count": 60,
   "metadata": {},
   "outputs": [
    {
     "data": {
      "text/plain": [
       "['asdfasdfghjkdfgerhbfstheth']"
      ]
     },
     "execution_count": 60,
     "metadata": {},
     "output_type": "execute_result"
    }
   ],
   "source": [
    "#Problem12\n",
    "list1 = [1,3,5,\"Hello\",\"asdfasdfghjkdfgerhbfstheth\"]\n",
    "list2 = [i for i in list1 if len(str(i)) > 20]\n",
    "list2"
   ]
  },
  {
   "cell_type": "code",
   "execution_count": 65,
   "metadata": {},
   "outputs": [
    {
     "name": "stdout",
     "output_type": "stream",
     "text": [
      "a\n",
      "a\n",
      " ['a']\n"
     ]
    }
   ],
   "source": [
    "#Problem13\n",
    "str1 = input()\n",
    "l1 = [str1[i] for i in range(len(str1))]\n",
    "print(str1 + \"\\n\",l1)"
   ]
  },
  {
   "cell_type": "code",
   "execution_count": 68,
   "metadata": {},
   "outputs": [
    {
     "data": {
      "text/plain": [
       "['aba', '1221']"
      ]
     },
     "execution_count": 68,
     "metadata": {},
     "output_type": "execute_result"
    }
   ],
   "source": [
    "#Problem14\n",
    "list1 = [\"a\", \"abc\", \"xyz\", \"s\", \"aba\", \"1221\"]\n",
    "l = [i for i in list1 if len(str(i)) > 2 and i[0] == i [-1]]\n",
    "l"
   ]
  },
  {
   "cell_type": "code",
   "execution_count": null,
   "metadata": {},
   "outputs": [],
   "source": []
  }
 ],
 "metadata": {
  "kernelspec": {
   "display_name": "Python 3",
   "language": "python",
   "name": "python3"
  },
  "language_info": {
   "codemirror_mode": {
    "name": "ipython",
    "version": 3
   },
   "file_extension": ".py",
   "mimetype": "text/x-python",
   "name": "python",
   "nbconvert_exporter": "python",
   "pygments_lexer": "ipython3",
   "version": "3.7.4"
  }
 },
 "nbformat": 4,
 "nbformat_minor": 2
}
