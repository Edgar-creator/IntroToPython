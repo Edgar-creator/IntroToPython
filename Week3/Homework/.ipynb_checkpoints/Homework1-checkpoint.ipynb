{
 "cells": [
  {
   "cell_type": "code",
   "execution_count": 2,
   "metadata": {},
   "outputs": [
    {
     "name": "stdout",
     "output_type": "stream",
     "text": [
      "[7, 8]\n",
      "[-2, -1, 0, 1, 4, 5, 7, 8]\n",
      "[-1, 0, 1, 0, 1, 4, 5, 7]\n",
      "[-2, -1, 4, 5, 7, 8]\n",
      "['Broccoli', 'Carrot', 'Lemon', 'Orange', 'Potatoes', 'Sausages', 'grapes', 'tomatoes']\n",
      "[[4, 5, 7, 'Potatoes', 'Sausages', 'grapes']]\n"
     ]
    }
   ],
   "source": [
    "#Problem 1\n",
    "a = [1,4,5,7,8,-2,0,-1]\n",
    "print(a[3:5])\n",
    "a_sorted = a.copy()\n",
    "a_sorted.sort()\n",
    "print(a_sorted)\n",
    "print(a_sorted[1:4] + a_sorted[2:7])\n",
    "del a_sorted[2:4]\n",
    "print(a_sorted)\n",
    "b =  [\"grapes\", \"Potatoes\", \"tomatoes\",\"Orange\", \"Lemon\", \"Broccoli\", \"Carrot\", \"Sausages\"]\n",
    "b_sorted = b.sort()\n",
    "print(b)\n",
    "c = [a[1:4] + b[4:7]]\n",
    "print(c)"
   ]
  },
  {
   "cell_type": "code",
   "execution_count": 3,
   "metadata": {},
   "outputs": [
    {
     "name": "stdout",
     "output_type": "stream",
     "text": [
      "{False, True, 'Cookies', 'Milk', 8, 10, 'Jelly', 14, 'Chocolate', -5, -3}\n",
      "{False, True, 8, 'Chocolate'}\n",
      "{False, True, 'Cookies', 'Milk', 'Kit-Kat', 8, 10, 'Jelly', 14, 'Chocolate', 'Oreo', -5, -3}\n",
      "{False, True, 'Cookies', 'Milk', 'Kit-Kat', 8, 10, 'Jelly', 14, 'Chocolate', 'Oreo', -5, -3}\n",
      "{False, True, 'Cookies', 'Milk', 'Kit-Kat', 8, 10, 'Jelly', 14, 'Chocolate', -5, -3}\n"
     ]
    }
   ],
   "source": [
    "#Problem 2\n",
    "a1 = [\"Cookies\", \"Chocolate\", 8, True, -3, -5,\"Chocolate\", 8, False, 8]\n",
    "b1 = [8, True, 10, 14, \"Chocolate\", \"Milk\",\"Jelly\", True, False, True]\n",
    "set_a = set(a1)\n",
    "set_b = set(b1)\n",
    "union_ab = set_a.union(set_b)\n",
    "print(union_ab)\n",
    "intersection_ab = set_a.intersection(set_b)\n",
    "print(intersection_ab)\n",
    "union_ab.add(\"Kit-Kat\")\n",
    "union_ab.add(\"Oreo\")\n",
    "print(union_ab)\n",
    "new_set = union_ab | intersection_ab\n",
    "print(new_set)\n",
    "\"Chocolate\" in new_set\n",
    "new_set.remove(\"Oreo\")\n",
    "print(new_set)"
   ]
  },
  {
   "cell_type": "code",
   "execution_count": 20,
   "metadata": {},
   "outputs": [
    {
     "name": "stdout",
     "output_type": "stream",
     "text": [
      "(1, 'a', -2, 'Anna')\n",
      "1\n",
      "3\n"
     ]
    }
   ],
   "source": [
    "#Problem 3\n",
    "t1 = (1,True,\"a\",-2,\"Anna\")\n",
    "t1 = list(t1)\n",
    "t1.pop(1)\n",
    "print(tuple(t1))\n",
    "t2 = (1,2,3,4,5)\n",
    "t3 = list(t1[0:2]) + list(t2[0:3])\n",
    "t3 = tuple(t3)\n",
    "print(t3[2])\n",
    "t4 = [(1,3,5), (8,9), (\"Anna\", \"Bob\",\"Alice\")]\n",
    "print(t4[0][1])"
   ]
  },
  {
   "cell_type": "code",
   "execution_count": 29,
   "metadata": {},
   "outputs": [
    {
     "name": "stdout",
     "output_type": "stream",
     "text": [
      "{'dairy': ['yogurt', 'cheese'], 'fruits': ['banana', 'apple', 'orange', 'lemon', 'apple', 'banana', 'banana']}\n",
      "{'dairy': ['yogurt', 'cheese'], 'fruits': {'lemon', 'banana', 'orange', 'apple'}, 'candies': ['mars', 'kinder', 'twix']}\n"
     ]
    }
   ],
   "source": [
    "#Problem 4\n",
    "market = {\"dairy\": [\"yogurt\", \"cheese\"],\"fruits\": [\"banana\", 'apple', 'orange', 'lemon', 'apple', 'banana', 'banana']}\n",
    "print(market)\n",
    "market[\"candies\"] = [\"mars\",\"kinder\",\"twix\"]\n",
    "market[\"fruits\"].sort()\n",
    "market[\"fruits\"] = set(market[\"fruits\"])\n",
    "print(market)"
   ]
  },
  {
   "cell_type": "code",
   "execution_count": null,
   "metadata": {},
   "outputs": [],
   "source": []
  }
 ],
 "metadata": {
  "kernelspec": {
   "display_name": "Python 3",
   "language": "python",
   "name": "python3"
  },
  "language_info": {
   "codemirror_mode": {
    "name": "ipython",
    "version": 3
   },
   "file_extension": ".py",
   "mimetype": "text/x-python",
   "name": "python",
   "nbconvert_exporter": "python",
   "pygments_lexer": "ipython3",
   "version": "3.7.4"
  }
 },
 "nbformat": 4,
 "nbformat_minor": 2
}
