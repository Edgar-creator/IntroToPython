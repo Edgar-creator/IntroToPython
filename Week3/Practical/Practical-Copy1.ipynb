{
 "cells": [
  {
   "cell_type": "code",
   "execution_count": 4,
   "metadata": {},
   "outputs": [
    {
     "name": "stdout",
     "output_type": "stream",
     "text": [
      "44\n",
      "False\n",
      "['hello', 1, True, 44, 'False']\n"
     ]
    }
   ],
   "source": [
    "#Problem 1\n",
    "list1 = [\"hello\", 1, True]\n",
    "a = int(input(\"number:\"))\n",
    "b = input()\n",
    "list1.append(a)\n",
    "list1.append(b)\n",
    "print(list1)"
   ]
  },
  {
   "cell_type": "code",
   "execution_count": 20,
   "metadata": {},
   "outputs": [
    {
     "name": "stdout",
     "output_type": "stream",
     "text": [
      "number:4\n",
      "44\n",
      "['hello', 1, True, 4, '44']\n"
     ]
    }
   ],
   "source": [
    "#Problem 2\n",
    "list1 = [\"hello\", 1, True]\n",
    "new_list1 = list1.copy()\n",
    "a = int(input(\"number:\"))\n",
    "b = input()\n",
    "new_list1.append(a)\n",
    "new_list1.append(b)\n",
    "\n",
    "print(new_list1)"
   ]
  },
  {
   "cell_type": "code",
   "execution_count": null,
   "metadata": {},
   "outputs": [],
   "source": [
    "#Problem 3\n",
    "list2 = [1,2,100,400,\"Hello\",100,400]\n",
    "a = int(input())\n",
    "print(list2)\n",
    "print(\"Number of a =\",list2.count(a))"
   ]
  },
  {
   "cell_type": "code",
   "execution_count": 2,
   "metadata": {},
   "outputs": [
    {
     "name": "stdout",
     "output_type": "stream",
     "text": [
      "1\n",
      "[1, 2, 3, 1, 2, 3, 1, 2, 3]\n"
     ]
    },
    {
     "data": {
      "text/plain": [
       "[2, 3, 1, 2, 3, 1, 2, 3]"
      ]
     },
     "execution_count": 2,
     "metadata": {},
     "output_type": "execute_result"
    }
   ],
   "source": [
    "#Problem 4\n",
    "list4 = [1,2,3,1,2,3,1,2,3]\n",
    "a = int(input())\n",
    "print(list4)\n",
    "list4.remove(a)\n",
    "list4"
   ]
  },
  {
   "cell_type": "code",
   "execution_count": 3,
   "metadata": {},
   "outputs": [
    {
     "name": "stdout",
     "output_type": "stream",
     "text": [
      "[1, 2, 3, 4, 5, 6, 7]\n",
      "[2, 3, 4, 7]\n"
     ]
    }
   ],
   "source": [
    "#Ptoblem 5\n",
    "list5 = [1,2,3,4,5,6,7]\n",
    "print(list5)\n",
    "list5.pop(5)\n",
    "list5.pop(4)\n",
    "list5.pop(0)\n",
    "print(list5)"
   ]
  },
  {
   "cell_type": "code",
   "execution_count": 4,
   "metadata": {},
   "outputs": [
    {
     "name": "stdout",
     "output_type": "stream",
     "text": [
      "[1, 2, 3, 4, 5, 6, 7]\n",
      "[2, 3, 4, 7]\n"
     ]
    }
   ],
   "source": [
    "#Problem 6\n",
    "list5 = [1,2,3,4,5,6,7]\n",
    "new_list5 = list5.copy()\n",
    "print(list5)\n",
    "new_list5.pop(5)\n",
    "new_list5.pop(4)\n",
    "new_list5.pop(0)\n",
    "print(new_list5)\n"
   ]
  },
  {
   "cell_type": "code",
   "execution_count": 6,
   "metadata": {},
   "outputs": [
    {
     "name": "stdout",
     "output_type": "stream",
     "text": [
      "[1, 2, 3, 4, 5, 'Hello']\n",
      "[1, 2, 3, 4, 5, ['True', 'False']]\n"
     ]
    }
   ],
   "source": [
    "#Problem 7\n",
    "l1 = [1,2,3,4,5,\"Hello\"]\n",
    "l2 = [\"True\",\"False\"]\n",
    "print(l1)\n",
    "l1[-1] = l2\n",
    "print(l1)"
   ]
  },
  {
   "cell_type": "code",
   "execution_count": 9,
   "metadata": {},
   "outputs": [
    {
     "name": "stdout",
     "output_type": "stream",
     "text": [
      "42\n",
      "{'Hello', 1, 2, 3, '42'}\n"
     ]
    }
   ],
   "source": [
    "#Problem 8\n",
    "set1 = {1,2,3,\"Hello\"}\n",
    "a = input()\n",
    "set1.add(a)\n",
    "print(set1)"
   ]
  },
  {
   "cell_type": "code",
   "execution_count": 12,
   "metadata": {},
   "outputs": [
    {
     "name": "stdout",
     "output_type": "stream",
     "text": [
      "1\n",
      "{'Hello', 2, 3, 4, 5}\n"
     ]
    }
   ],
   "source": [
    "#Problem 9\n",
    "set2 = {1,2,3,4,5,\"Hello\"}\n",
    "a = int(input())\n",
    "set2.remove(a)\n",
    "print(set2)"
   ]
  },
  {
   "cell_type": "code",
   "execution_count": 13,
   "metadata": {},
   "outputs": [
    {
     "name": "stdout",
     "output_type": "stream",
     "text": [
      "1\n",
      "{'Hello', 2, 3, 4, 5}\n"
     ]
    }
   ],
   "source": [
    "#Problem 10\n",
    "set2 = {1,2,3,4,5,\"Hello\"}\n",
    "a = int(input())\n",
    "set2.discard(a)\n",
    "print(set2)"
   ]
  },
  {
   "cell_type": "code",
   "execution_count": 15,
   "metadata": {},
   "outputs": [
    {
     "name": "stdout",
     "output_type": "stream",
     "text": [
      "{'Hello', 1, 2, 3, 4, 5, 6, 7, 8}\n",
      "{5}\n"
     ]
    }
   ],
   "source": [
    "#Problem 11\n",
    "set1 = {1,2,3,4,5}\n",
    "set2 = {5,6,7,8,\"Hello\"}\n",
    "print(set1.union(set2))\n",
    "print(set1.intersection(set2))"
   ]
  },
  {
   "cell_type": "code",
   "execution_count": 18,
   "metadata": {},
   "outputs": [
    {
     "name": "stdout",
     "output_type": "stream",
     "text": [
      "9\n"
     ]
    },
    {
     "data": {
      "text/plain": [
       "False"
      ]
     },
     "execution_count": 18,
     "metadata": {},
     "output_type": "execute_result"
    }
   ],
   "source": [
    "#Problem 12\n",
    "set3 = {1,2,3,4,5,6,7}\n",
    "a = int(input())\n",
    "a in set3"
   ]
  },
  {
   "cell_type": "code",
   "execution_count": 20,
   "metadata": {},
   "outputs": [
    {
     "name": "stdout",
     "output_type": "stream",
     "text": [
      "5\n",
      "6\n"
     ]
    }
   ],
   "source": [
    "#Problem 13\n",
    "t1 = (1,2,3,4,5,6,7,8,9)\n",
    "print(t1[4])\n",
    "print(t1[-4])"
   ]
  },
  {
   "cell_type": "code",
   "execution_count": 4,
   "metadata": {},
   "outputs": [
    {
     "name": "stdout",
     "output_type": "stream",
     "text": [
      "(1, 2, 3, 4, 'Hello', 6)\n"
     ]
    }
   ],
   "source": [
    "#Problem 14\n",
    "t2 = (1,2,3,4,5,6)\n",
    "new_t1 = list(t2)\n",
    "new_t1[4] = \"Hello\"\n",
    "print(tuple(new_t1))"
   ]
  },
  {
   "cell_type": "code",
   "execution_count": 22,
   "metadata": {},
   "outputs": [
    {
     "name": "stdout",
     "output_type": "stream",
     "text": [
      "key:key4\n",
      "value:value4\n",
      "{'key1': 'value1', 'key2': 'value2', 'key3': 'value3'}\n",
      "{'key1': 'value1', 'key2': 'value2', 'key3': 'value3', 'key4': 'value4'}\n"
     ]
    }
   ],
   "source": [
    "#Problem 15\n",
    "dict1 = {\"key1\":\"value1\",\"key2\":\"value2\",\"key3\":\"value3\"}\n",
    "key = input(\"key:\")\n",
    "value = input(\"value:\")\n",
    "print(dict1)\n",
    "dict1[key] = value\n",
    "print(dict1)\n"
   ]
  },
  {
   "cell_type": "code",
   "execution_count": 26,
   "metadata": {},
   "outputs": [
    {
     "name": "stdout",
     "output_type": "stream",
     "text": [
      "{1: 'a', 2: 'b', 3: 'c'}\n"
     ]
    }
   ],
   "source": [
    "#Problem 16\n",
    "l1 = [(1, \"a\"), (2, \"b\"), (3, \"c\")]\n",
    "d = {}\n",
    "d[1] = \"a\"\n",
    "d[2] = \"b\"\n",
    "d[3] = \"c\"\n",
    "print(d)"
   ]
  },
  {
   "cell_type": "code",
   "execution_count": null,
   "metadata": {},
   "outputs": [],
   "source": []
  }
 ],
 "metadata": {
  "kernelspec": {
   "display_name": "Python 3",
   "language": "python",
   "name": "python3"
  },
  "language_info": {
   "codemirror_mode": {
    "name": "ipython",
    "version": 3
   },
   "file_extension": ".py",
   "mimetype": "text/x-python",
   "name": "python",
   "nbconvert_exporter": "python",
   "pygments_lexer": "ipython3",
   "version": "3.7.4"
  }
 },
 "nbformat": 4,
 "nbformat_minor": 2
}
