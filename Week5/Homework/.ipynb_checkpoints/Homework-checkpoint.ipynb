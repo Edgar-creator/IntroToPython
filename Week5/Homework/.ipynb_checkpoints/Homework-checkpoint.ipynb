{
 "cells": [
  {
   "cell_type": "code",
   "execution_count": 2,
   "metadata": {},
   "outputs": [
    {
     "data": {
      "text/plain": [
       "9"
      ]
     },
     "execution_count": 2,
     "metadata": {},
     "output_type": "execute_result"
    }
   ],
   "source": [
    "#Problem1\n",
    "def my_max(*args):\n",
    "    if len(args) == 0:\n",
    "        return \"no numbers given\"\n",
    "    else:\n",
    "        max = args[0]\n",
    "        for i in range(1,len(args)):\n",
    "            if args[i] > max:\n",
    "                max = args[i]\n",
    "        return max\n",
    "my_max(1,2,5,4,8,9,1,5)"
   ]
  },
  {
   "cell_type": "code",
   "execution_count": 3,
   "metadata": {},
   "outputs": [
    {
     "data": {
      "text/plain": [
       "[1, 2, 5, 6, 8, 9]"
      ]
     },
     "execution_count": 3,
     "metadata": {},
     "output_type": "execute_result"
    }
   ],
   "source": [
    "#Problem2\n",
    "def unique(lst):\n",
    "    return list(set(lst))\n",
    "unique([1,2,2,5,5,5,6,9,8])"
   ]
  },
  {
   "cell_type": "code",
   "execution_count": 12,
   "metadata": {},
   "outputs": [
    {
     "data": {
      "text/plain": [
       "21"
      ]
     },
     "execution_count": 12,
     "metadata": {},
     "output_type": "execute_result"
    }
   ],
   "source": [
    "#Problem3\n",
    "def my_fib(n):\n",
    "    fib = [0,1]\n",
    "    a = 0 \n",
    "    b = 1\n",
    "    for i in range(n):\n",
    "        c = fib[a] + fib[b]\n",
    "        fib.append(c)\n",
    "        a += 1\n",
    "        b += 1\n",
    "    return fib[n ]\n",
    "my_fib(8)\n",
    "    \n",
    "    "
   ]
  },
  {
   "cell_type": "code",
   "execution_count": 41,
   "metadata": {},
   "outputs": [
    {
     "name": "stdout",
     "output_type": "stream",
     "text": [
      "[11, 15, 16, 17, 39]\n"
     ]
    }
   ],
   "source": [
    "#Problem4\n",
    "def my_func(n):\n",
    "    if n < 10:\n",
    "        return n + 10\n",
    "    else:\n",
    "        return n - 10\n",
    "list1 = [1,5,6,7,49]\n",
    "result = map(my_func,list1)\n",
    "print(list(result))\n"
   ]
  }
 ],
 "metadata": {
  "kernelspec": {
   "display_name": "Python 3",
   "language": "python",
   "name": "python3"
  },
  "language_info": {
   "codemirror_mode": {
    "name": "ipython",
    "version": 3
   },
   "file_extension": ".py",
   "mimetype": "text/x-python",
   "name": "python",
   "nbconvert_exporter": "python",
   "pygments_lexer": "ipython3",
   "version": "3.7.4"
  }
 },
 "nbformat": 4,
 "nbformat_minor": 2
}
