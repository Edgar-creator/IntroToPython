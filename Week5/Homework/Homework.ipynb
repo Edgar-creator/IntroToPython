{
 "cells": [
  {
   "cell_type": "code",
   "execution_count": 10,
   "metadata": {},
   "outputs": [
    {
     "data": {
      "text/plain": [
       "9"
      ]
     },
     "execution_count": 10,
     "metadata": {},
     "output_type": "execute_result"
    }
   ],
   "source": [
    "#Problem1\n",
    "def my_max(*args):\n",
    "    if len(args) == 0:\n",
    "        return \"no numbers given\"\n",
    "    else:\n",
    "        n = 0\n",
    "        max = args[0]\n",
    "        for i in range(1,len(args)):\n",
    "            if args[i] > max:\n",
    "                max = args[i]\n",
    "            n += 1\n",
    "        return max\n",
    "my_max(1,2,5,4,8,9,1,5)"
   ]
  },
  {
   "cell_type": "code",
   "execution_count": 12,
   "metadata": {},
   "outputs": [
    {
     "data": {
      "text/plain": [
       "{1, 2, 5, 6, 8, 9}"
      ]
     },
     "execution_count": 12,
     "metadata": {},
     "output_type": "execute_result"
    }
   ],
   "source": [
    "#Problem2\n",
    "def unique(lst):\n",
    "    return set(lst)\n",
    "unique([1,2,2,5,5,5,6,9,8])"
   ]
  },
  {
   "cell_type": "code",
   "execution_count": null,
   "metadata": {},
   "outputs": [],
   "source": []
  }
 ],
 "metadata": {
  "kernelspec": {
   "display_name": "Python 3",
   "language": "python",
   "name": "python3"
  },
  "language_info": {
   "codemirror_mode": {
    "name": "ipython",
    "version": 3
   },
   "file_extension": ".py",
   "mimetype": "text/x-python",
   "name": "python",
   "nbconvert_exporter": "python",
   "pygments_lexer": "ipython3",
   "version": "3.7.4"
  }
 },
 "nbformat": 4,
 "nbformat_minor": 2
}
