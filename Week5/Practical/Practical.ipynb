{
 "cells": [
  {
   "cell_type": "code",
   "execution_count": 2,
   "metadata": {},
   "outputs": [
    {
     "data": {
      "text/plain": [
       "10.333333333333334"
      ]
     },
     "execution_count": 2,
     "metadata": {},
     "output_type": "execute_result"
    }
   ],
   "source": [
    "#Problem1\n",
    "def average_3(num1,num2,num3):\n",
    "    return (num1 + num2 + num3) / 3\n",
    "average_3(1,10,20)"
   ]
  },
  {
   "cell_type": "code",
   "execution_count": 6,
   "metadata": {},
   "outputs": [
    {
     "data": {
      "text/plain": [
       "[2, 4, 6]"
      ]
     },
     "execution_count": 6,
     "metadata": {},
     "output_type": "execute_result"
    }
   ],
   "source": [
    "#Problem2\n",
    "def even_from_list(lst):\n",
    "    lst1 = [i for i in lst if i % 2 == 0]\n",
    "    return lst1\n",
    "even_from_list([1,2,3,4,5,6])"
   ]
  },
  {
   "cell_type": "code",
   "execution_count": 2,
   "metadata": {},
   "outputs": [
    {
     "data": {
      "text/plain": [
       "True"
      ]
     },
     "execution_count": 2,
     "metadata": {},
     "output_type": "execute_result"
    }
   ],
   "source": [
    "#Problem3\n",
    "def true_password(password):\n",
    "    if len(password) >= 10:\n",
    "        d = 0\n",
    "        for i in password:\n",
    "            if i.isdigit():\n",
    "                d += 1\n",
    "        if d >= 2:\n",
    "            return True\n",
    "        else:\n",
    "            return False\n",
    "    else:\n",
    "        return False\n",
    "true_password(\"abcd326jhgft\")"
   ]
  },
  {
   "cell_type": "code",
   "execution_count": 14,
   "metadata": {},
   "outputs": [
    {
     "data": {
      "text/plain": [
       "'Edgar,Welcome to our company!'"
      ]
     },
     "execution_count": 14,
     "metadata": {},
     "output_type": "execute_result"
    }
   ],
   "source": [
    "#Problem4\n",
    "def you_are_welcome(name,greeting = \"Welcome to our company!\"):\n",
    "    return name + \",\" + greeting\n",
    "you_are_welcome(\"Edgar\")"
   ]
  },
  {
   "cell_type": "code",
   "execution_count": 78,
   "metadata": {},
   "outputs": [
    {
     "data": {
      "text/plain": [
       "'Edgar , your average grade is:1'"
      ]
     },
     "execution_count": 78,
     "metadata": {},
     "output_type": "execute_result"
    }
   ],
   "source": [
    "#Problem5\n",
    "def unknown(name,*args):\n",
    "    if len(args) != 0:\n",
    "        return \"%s %s your average grade is:%d\" % (name,\",\",int(sum(args) / len(args)))\n",
    "    else:\n",
    "        return \"No grades available for \" + name\n",
    "unknown(\"Edgar\",1)"
   ]
  },
  {
   "cell_type": "code",
   "execution_count": 4,
   "metadata": {},
   "outputs": [
    {
     "name": "stdout",
     "output_type": "stream",
     "text": [
      "x:4\n",
      "y:2\n",
      "n:3\n"
     ]
    }
   ],
   "source": [
    "#Problem6\n",
    "def if_admin(user,**kwargs):\n",
    "    if user == 'admin':\n",
    "        for key,value in kwargs.items():\n",
    "            print(\"%s:%s\" %(key,value))\n",
    "    else:\n",
    "        return \"access denied to the user \"+ user\n",
    "if_admin(\"admin\",x = 4,y = 2,n = 3)"
   ]
  },
  {
   "cell_type": "code",
   "execution_count": null,
   "metadata": {},
   "outputs": [],
   "source": []
  }
 ],
 "metadata": {
  "kernelspec": {
   "display_name": "Python 3",
   "language": "python",
   "name": "python3"
  },
  "language_info": {
   "codemirror_mode": {
    "name": "ipython",
    "version": 3
   },
   "file_extension": ".py",
   "mimetype": "text/x-python",
   "name": "python",
   "nbconvert_exporter": "python",
   "pygments_lexer": "ipython3",
   "version": "3.7.4"
  }
 },
 "nbformat": 4,
 "nbformat_minor": 2
}
