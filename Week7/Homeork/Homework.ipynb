{
 "cells": [
  {
   "cell_type": "code",
   "execution_count": 1,
   "metadata": {},
   "outputs": [
    {
     "ename": "ModuleNotFoundError",
     "evalue": "No module named 'average'",
     "output_type": "error",
     "traceback": [
      "\u001b[1;31m---------------------------------------------------------------------------\u001b[0m",
      "\u001b[1;31mModuleNotFoundError\u001b[0m                       Traceback (most recent call last)",
      "\u001b[1;32m<ipython-input-1-e79fdda83e30>\u001b[0m in \u001b[0;36m<module>\u001b[1;34m\u001b[0m\n\u001b[1;32m----> 1\u001b[1;33m \u001b[1;32mimport\u001b[0m \u001b[0maverage\u001b[0m\u001b[1;33m\u001b[0m\u001b[1;33m\u001b[0m\u001b[0m\n\u001b[0m\u001b[0;32m      2\u001b[0m \u001b[0mprint\u001b[0m\u001b[1;33m(\u001b[0m\u001b[0maverage\u001b[0m\u001b[1;33m.\u001b[0m\u001b[0mk\u001b[0m\u001b[1;33m(\u001b[0m\u001b[1;33m)\u001b[0m\u001b[1;33m)\u001b[0m\u001b[1;33m\u001b[0m\u001b[1;33m\u001b[0m\u001b[0m\n",
      "\u001b[1;31mModuleNotFoundError\u001b[0m: No module named 'average'"
     ]
    }
   ],
   "source": [
    "#Problem1\n",
    "import average\n",
    "print(average.k())"
   ]
  },
  {
   "cell_type": "code",
   "execution_count": 5,
   "metadata": {},
   "outputs": [
    {
     "data": {
      "text/plain": [
       "2.0"
      ]
     },
     "execution_count": 5,
     "metadata": {},
     "output_type": "execute_result"
    }
   ],
   "source": [
    "#Problem2\n",
    "def div(x,y):\n",
    "    assert y != 0,\"Can’t divide\"\n",
    "    return x/y\n",
    "div(8,4)"
   ]
  },
  {
   "cell_type": "code",
   "execution_count": 27,
   "metadata": {},
   "outputs": [
    {
     "name": "stdout",
     "output_type": "stream",
     "text": [
      "Typeeror for my_list .Must be a list\n"
     ]
    }
   ],
   "source": [
    "#Problem3\n",
    "class MyException(Exception):\n",
    "    pass\n",
    "def example_func(my_list: list):\n",
    "    my_sum = 0\n",
    "    sum_of_pairs = []\n",
    "    try:\n",
    "        if type(my_list) != list:\n",
    "            raise MyException(\"Typeeror for my_list .Must be a list\")\n",
    "        for i in range(len(my_list)):\n",
    "            sum_of_pairs.append(my_list[i] + my_list[i + 1])\n",
    "        print(\"sum_of_pairs = \",sum_of_pairs)\n",
    "    except IndexError as i:\n",
    "        print(i)\n",
    "    except Exception as e:\n",
    "        print(e)\n",
    "example_func(\"hjlk\")"
   ]
  },
  {
   "cell_type": "code",
   "execution_count": 2,
   "metadata": {},
   "outputs": [
    {
     "name": "stdout",
     "output_type": "stream",
     "text": [
      "[Errno 2] No such file or directory: 'ttt.txt'\n"
     ]
    }
   ],
   "source": [
    "#Problem4\n",
    "def UpperContent(filename):\n",
    "    try:\n",
    "        myfile = open(filename, \"r\")\n",
    "        for line in myfile:\n",
    "            print(line.upper)\n",
    "        myfile.close\n",
    "    except FileNotFoundError as f:\n",
    "        print(f)\n",
    "    except Exxception as e:\n",
    "        print(e)\n",
    "UpperContent(\"ttt.txt\")"
   ]
  },
  {
   "cell_type": "code",
   "execution_count": 6,
   "metadata": {},
   "outputs": [
    {
     "data": {
      "text/plain": [
       "array([[8, 5, 1, 9, 9],\n",
       "       [8, 8, 1, 7, 9],\n",
       "       [4, 5, 8, 6, 7]])"
      ]
     },
     "execution_count": 6,
     "metadata": {},
     "output_type": "execute_result"
    }
   ],
   "source": [
    "#Problem5\n",
    "import numpy as np\n",
    "a = np.random.randint(1,10,(3,5))\n",
    "a"
   ]
  },
  {
   "cell_type": "code",
   "execution_count": 9,
   "metadata": {},
   "outputs": [
    {
     "data": {
      "text/plain": [
       "array([0, 0, 0, 0, 0, 3, 0, 0, 0, 0])"
      ]
     },
     "execution_count": 9,
     "metadata": {},
     "output_type": "execute_result"
    }
   ],
   "source": [
    "#Problem6\n",
    "a = np.zeros(10,dtype = int)\n",
    "a[5] = 3\n",
    "a"
   ]
  },
  {
   "cell_type": "code",
   "execution_count": 11,
   "metadata": {},
   "outputs": [
    {
     "data": {
      "text/plain": [
       "array([ 3,  4,  5,  6,  7,  8,  9, 10, 11, 12, 13, 14])"
      ]
     },
     "execution_count": 11,
     "metadata": {},
     "output_type": "execute_result"
    }
   ],
   "source": [
    "#Problem7\n",
    "a = np.arange(3,15)\n",
    "a"
   ]
  },
  {
   "cell_type": "code",
   "execution_count": 14,
   "metadata": {},
   "outputs": [
    {
     "data": {
      "text/plain": [
       "array([[1, 3, 5],\n",
       "       [2, 4, 5]])"
      ]
     },
     "execution_count": 14,
     "metadata": {},
     "output_type": "execute_result"
    }
   ],
   "source": [
    "#Problem8\n",
    "a = np.array([1, 3, 5, 2, 4, 5])\n",
    "a = a.reshape(2,3)\n",
    "a"
   ]
  },
  {
   "cell_type": "code",
   "execution_count": 15,
   "metadata": {},
   "outputs": [
    {
     "name": "stdout",
     "output_type": "stream",
     "text": [
      "[4 5 2 4 3 5 4]\n"
     ]
    }
   ],
   "source": [
    "#Problem9\n",
    "def div(arr):\n",
    "    while np.mean(arr) > 5:\n",
    "        for i in range(len(arr)):\n",
    "            arr[i] /= 2\n",
    "    print(arr)\n",
    "div(np.array([9,10,5,9,6,10,8]))"
   ]
  },
  {
   "cell_type": "code",
   "execution_count": 19,
   "metadata": {},
   "outputs": [
    {
     "name": "stdout",
     "output_type": "stream",
     "text": [
      "[11  2 13  8  1]\n",
      "[10  5 13 10 11]\n",
      "[ 7  8  2  1 11]\n",
      "[ 7  1 14 14  1]\n",
      "[12  4 13  2]\n",
      "[10 14 13  3]\n",
      "[ 4  9 12  3]\n",
      "[10  7 10  1]\n",
      "[12  9  6  1]\n"
     ]
    },
    {
     "data": {
      "text/plain": [
       "(None, None)"
      ]
     },
     "execution_count": 19,
     "metadata": {},
     "output_type": "execute_result"
    }
   ],
   "source": [
    "#Problem10\n",
    "def col(a = np.random.randint(1,15,(5,4))):\n",
    "    for i in range(4):\n",
    "        print(a[...,i])\n",
    "def row(a = np.random.randint(1,15,(5,4))):\n",
    "    for i in range(5):\n",
    "        print(a[i,...])\n",
    "col(),row()"
   ]
  },
  {
   "cell_type": "code",
   "execution_count": null,
   "metadata": {},
   "outputs": [],
   "source": []
  }
 ],
 "metadata": {
  "kernelspec": {
   "display_name": "Python 3",
   "language": "python",
   "name": "python3"
  },
  "language_info": {
   "codemirror_mode": {
    "name": "ipython",
    "version": 3
   },
   "file_extension": ".py",
   "mimetype": "text/x-python",
   "name": "python",
   "nbconvert_exporter": "python",
   "pygments_lexer": "ipython3",
   "version": "3.7.4"
  }
 },
 "nbformat": 4,
 "nbformat_minor": 2
}
