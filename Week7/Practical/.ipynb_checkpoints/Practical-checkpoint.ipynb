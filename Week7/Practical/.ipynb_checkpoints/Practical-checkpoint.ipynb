{
 "cells": [
  {
   "cell_type": "code",
   "execution_count": 3,
   "metadata": {},
   "outputs": [
    {
     "name": "stdout",
     "output_type": "stream",
     "text": [
      "Wake up\n"
     ]
    }
   ],
   "source": [
    "#Problem1\n",
    "def Alarm(day):\n",
    "    assert day != \"Sunday\",\"I won’t wake you up today!\"\n",
    "    print(\"Wake up\")\n",
    "Alarm(\"Monday\")"
   ]
  },
  {
   "cell_type": "code",
   "execution_count": 8,
   "metadata": {},
   "outputs": [
    {
     "name": "stdout",
     "output_type": "stream",
     "text": [
      "11\n"
     ]
    }
   ],
   "source": [
    "#Problem2\n",
    "def sum(x,y):\n",
    "    assert type(x) == int and type(y) == int,\"Arguments of type int required\"\n",
    "    print(x + y)\n",
    "sum(5,6)"
   ]
  },
  {
   "cell_type": "code",
   "execution_count": 10,
   "metadata": {},
   "outputs": [
    {
     "name": "stdout",
     "output_type": "stream",
     "text": [
      "division by zero\n"
     ]
    }
   ],
   "source": [
    "#Problem3\n",
    "def div(x,y):\n",
    "    try:\n",
    "        print(x / y)\n",
    "    except Exception as e:\n",
    "        print(e)\n",
    "div(5,0)"
   ]
  },
  {
   "cell_type": "code",
   "execution_count": 12,
   "metadata": {},
   "outputs": [
    {
     "name": "stdout",
     "output_type": "stream",
     "text": [
      "unsupported operand type(s) for /: 'int' and 'str'\n"
     ]
    }
   ],
   "source": [
    "#Problem4\n",
    "def div(x,y):\n",
    "    try:\n",
    "        print(x / y)\n",
    "    except ZeroDivisionError as z:\n",
    "        print(z)\n",
    "    except Exception as e:\n",
    "        print(e)\n",
    "div(5,\"p\")"
   ]
  },
  {
   "cell_type": "code",
   "execution_count": 31,
   "metadata": {},
   "outputs": [
    {
     "name": "stdout",
     "output_type": "stream",
     "text": [
      "The entry is: a\n",
      "Oops unsupported operand type(s) for /: 'int' and 'str'\n",
      "The entry is: 0\n",
      "Oops division by zero\n",
      "The entry is: 2\n",
      "The reciprocal of the current entry of the list is: 0.5\n"
     ]
    }
   ],
   "source": [
    "#Problem5\n",
    "ls = [\"a\",0,2]\n",
    "for i in ls:\n",
    "    try:\n",
    "        print(\"The entry is:\",i)\n",
    "        print(\"The reciprocal of the current entry of the list is:\",1 / i)\n",
    "\n",
    "    except TypeError as t:\n",
    "        print(\"Oops\",t)\n",
    "    except ZeroDivisionError as z:\n",
    "        print(\"Oops\",z)\n"
   ]
  },
  {
   "cell_type": "code",
   "execution_count": 38,
   "metadata": {},
   "outputs": [
    {
     "name": "stdout",
     "output_type": "stream",
     "text": [
      "Rambo\n",
      "Rambo is an invalid username\n"
     ]
    }
   ],
   "source": [
    "#Problem6 \n",
    "class MyException(Exception):\n",
    "    pass\n",
    "username = input()\n",
    "try:\n",
    "    if username == \"Rambo\":\n",
    "        raise MyException(\"Rambo is an invalid username\")\n",
    "    print(\"Welcome %s\" %(username))\n",
    "except Exception as e:\n",
    "    print(e)\n",
    "\n"
   ]
  },
  {
   "cell_type": "code",
   "execution_count": 88,
   "metadata": {},
   "outputs": [
    {
     "name": "stdout",
     "output_type": "stream",
     "text": [
      "returning the value\n",
      "Typeeror for data_list .Must be list \n",
      "None\n"
     ]
    }
   ],
   "source": [
    "#Problem7\n",
    "def get_value(data_list:list,index:int):\n",
    "    print(\"returning the value\")\n",
    "    try:\n",
    "        if type(data_list) != list:\n",
    "            raise MyException(\"Typeeror for data_list .Must be list \")\n",
    "        elif type(index) != int:\n",
    "            raise MyException(\"Typeeror for index.Must be int\")\n",
    "        elif len(data_list) < index:\n",
    "            raise MyException(\"Too big index\")\n",
    "        result = data_list[index]\n",
    "        return result\n",
    "    except Exception as e:\n",
    "        print(e)\n",
    "print(get_value(\"l\",0))"
   ]
  },
  {
   "cell_type": "code",
   "execution_count": 71,
   "metadata": {},
   "outputs": [
    {
     "name": "stdout",
     "output_type": "stream",
     "text": [
      "Please enter your age: j\n",
      "Please enter an integer\n",
      "Please enter your age: 5\n",
      "I see that you are 5 years old.\n"
     ]
    }
   ],
   "source": [
    "#Problem8\n",
    "def YourAge():\n",
    "    try:\n",
    "        age = int(input(\"Please enter your age: \"))\n",
    "    except ValueError:\n",
    "        print(\"Please enter an integer\")\n",
    "        age = int(input(\"Please enter your age: \"))\n",
    "    print(\"I see that you are %d years old.\" %(age))\n",
    "YourAge()"
   ]
  },
  {
   "cell_type": "code",
   "execution_count": null,
   "metadata": {},
   "outputs": [],
   "source": []
  }
 ],
 "metadata": {
  "kernelspec": {
   "display_name": "Python 3",
   "language": "python",
   "name": "python3"
  },
  "language_info": {
   "codemirror_mode": {
    "name": "ipython",
    "version": 3
   },
   "file_extension": ".py",
   "mimetype": "text/x-python",
   "name": "python",
   "nbconvert_exporter": "python",
   "pygments_lexer": "ipython3",
   "version": "3.7.4"
  }
 },
 "nbformat": 4,
 "nbformat_minor": 2
}
