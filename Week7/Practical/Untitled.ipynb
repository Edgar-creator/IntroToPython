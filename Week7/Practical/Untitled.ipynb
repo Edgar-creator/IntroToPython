{
 "cells": [
  {
   "cell_type": "code",
   "execution_count": 15,
   "metadata": {},
   "outputs": [
    {
     "name": "stdout",
     "output_type": "stream",
     "text": [
      "9.6\n"
     ]
    }
   ],
   "source": [
    "import numpy as np\n",
    "a  = np.array([6,6,6,5,25])\n",
    "print(np.mean(a))\n"
   ]
  },
  {
   "cell_type": "code",
   "execution_count": 26,
   "metadata": {},
   "outputs": [
    {
     "name": "stdout",
     "output_type": "stream",
     "text": [
      "[6 3 3 2 3]\n",
      "[1 5 6 4 2]\n",
      "[3 3 9 9 9]\n",
      "[4 6 3 9 5]\n"
     ]
    }
   ],
   "source": [
    "def mod_5(a = np.random.randint(1,10,(5,4))):\n",
    "    for i in range(4):\n",
    "        print(a[...,i])\n",
    "mod_5()"
   ]
  },
  {
   "cell_type": "code",
   "execution_count": null,
   "metadata": {},
   "outputs": [],
   "source": [
    "np.random.seed(1)\n",
    "def mod_5(a = np.random.randint(1,10,(5,4))):\n",
    "    for i in range(4):\n",
    "        print(a[...,i])\n",
    "def mod_5(a = np.random.randint(1,10,(5,4))):\n",
    "    for i in range(5):\n",
    "        print(a[i,...])"
   ]
  }
 ],
 "metadata": {
  "kernelspec": {
   "display_name": "Python 3",
   "language": "python",
   "name": "python3"
  },
  "language_info": {
   "codemirror_mode": {
    "name": "ipython",
    "version": 3
   },
   "file_extension": ".py",
   "mimetype": "text/x-python",
   "name": "python",
   "nbconvert_exporter": "python",
   "pygments_lexer": "ipython3",
   "version": "3.7.4"
  }
 },
 "nbformat": 4,
 "nbformat_minor": 2
}
