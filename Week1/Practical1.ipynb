{
 "cells": [
  {
   "cell_type": "code",
   "execution_count": 10,
   "metadata": {},
   "outputs": [
    {
     "name": "stdout",
     "output_type": "stream",
     "text": [
      "Intro To Python\n",
      "Edgar Babayan\n",
      "Aristocrat\n",
      "15\n",
      "True\n"
     ]
    }
   ],
   "source": [
    "course = \"Intro To Python\"\n",
    "student = \"Edgar Babayan\"\n",
    "nickname = \"Aristocrat\"\n",
    "grade = 15\n",
    "python_expert = True\n",
    "print(course)\n",
    "print(student)\n",
    "print(nickname)\n",
    "print(grade)\n",
    "print(python_expert)"
   ]
  },
  {
   "cell_type": "code",
   "execution_count": 13,
   "metadata": {},
   "outputs": [
    {
     "name": "stdout",
     "output_type": "stream",
     "text": [
      "The hypotenuse of the triangle ABC= 5.0\n"
     ]
    }
   ],
   "source": [
    "AB = 3\n",
    "AC = 4\n",
    "BC = (AB ** 2 + AC ** 2) ** 0.5\n",
    "print(\"The hypotenuse of the triangle ABC\" + '=', BC) "
   ]
  },
  {
   "cell_type": "code",
   "execution_count": null,
   "metadata": {},
   "outputs": [],
   "source": []
  }
 ],
 "metadata": {
  "kernelspec": {
   "display_name": "Python 3",
   "language": "python",
   "name": "python3"
  },
  "language_info": {
   "codemirror_mode": {
    "name": "ipython",
    "version": 3
   },
   "file_extension": ".py",
   "mimetype": "text/x-python",
   "name": "python",
   "nbconvert_exporter": "python",
   "pygments_lexer": "ipython3",
   "version": "3.7.4"
  }
 },
 "nbformat": 4,
 "nbformat_minor": 2
}
