{
 "cells": [
  {
   "cell_type": "code",
   "execution_count": 7,
   "metadata": {
    "scrolled": true
   },
   "outputs": [
    {
     "name": "stdout",
     "output_type": "stream",
     "text": [
      "False\n",
      "True\n",
      "True\n",
      "False\n",
      "<class 'int'>\n",
      "<class 'int'>\n",
      "<class 'str'>\n",
      "<class 'int'>\n",
      "<class 'str'>\n",
      "<class 'float'>\n",
      "flour - 175\n",
      "butter - 175\n",
      "sugar - 100g\n",
      "eggs - 2\n",
      "cocoa powder - 1ts\n",
      "baking powder - 0.5\n"
     ]
    }
   ],
   "source": [
    "#Problem 1\n",
    "project = \"cake\"\n",
    "difficulty = 5\n",
    "ingredients = [\"flour\", \"butter\", \"sugar\", \"eggs\", \"cocoa powder\", \"baking powder\"]\n",
    "print(\"apples\" in ingredients)\n",
    "print(\"butter\" in ingredients)\n",
    "print((\"eggs\" or \"margarine\")in ingredients)\n",
    "print(\"eggs\" and \"margarine\" in ingredients)\n",
    "flour = 175\n",
    "butter = 175\n",
    "sugar = \"100g\"\n",
    "eggs = 2\n",
    "cocoa_powder = \"1ts\"\n",
    "baking_powder = 0.5\n",
    "print(type(flour))\n",
    "print(type(butter))\n",
    "print(type(sugar))\n",
    "print(type(eggs))\n",
    "print(type(cocoa_powder))\n",
    "print(type(baking_powder))\n",
    "print(\"flour -\" , flour)\n",
    "print(\"butter -\", butter)\n",
    "print(\"sugar -\", sugar)\n",
    "print(\"eggs -\", eggs)\n",
    "print(\"cocoa powder -\",cocoa_powder)\n",
    "print(\"baking powder -\",baking_powder)\n",
    "\n",
    "   "
   ]
  },
  {
   "cell_type": "code",
   "execution_count": 8,
   "metadata": {},
   "outputs": [
    {
     "name": "stdout",
     "output_type": "stream",
     "text": [
      "1003.0\n",
      "852\n"
     ]
    }
   ],
   "source": [
    "#Problem 2\n",
    "a = 15\n",
    "b = 8\n",
    "c = 2\n",
    "print((5 * a ** 2) - (a * b) + (a % 2) - (a / 5))\n",
    "print(b ** 3 + 3 * a * b - 10 * c)\n"
   ]
  },
  {
   "cell_type": "code",
   "execution_count": 5,
   "metadata": {},
   "outputs": [
    {
     "name": "stdout",
     "output_type": "stream",
     "text": [
      "6\n",
      "even\n"
     ]
    }
   ],
   "source": [
    "#Problem 3\n",
    "number = int(input())\n",
    "if number % 2 == 0:\n",
    "    print(\"even\")\n",
    "else:\n",
    "    print(\"odd\")"
   ]
  }
 ],
 "metadata": {
  "kernelspec": {
   "display_name": "Python 3",
   "language": "python",
   "name": "python3"
  },
  "language_info": {
   "codemirror_mode": {
    "name": "ipython",
    "version": 3
   },
   "file_extension": ".py",
   "mimetype": "text/x-python",
   "name": "python",
   "nbconvert_exporter": "python",
   "pygments_lexer": "ipython3",
   "version": "3.7.4"
  }
 },
 "nbformat": 4,
 "nbformat_minor": 2
}
