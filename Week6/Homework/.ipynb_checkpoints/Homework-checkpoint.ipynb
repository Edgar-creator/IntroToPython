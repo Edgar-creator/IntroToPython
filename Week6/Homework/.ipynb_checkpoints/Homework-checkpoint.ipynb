{
 "cells": [
  {
   "cell_type": "code",
   "execution_count": 25,
   "metadata": {},
   "outputs": [
    {
     "name": "stdout",
     "output_type": "stream",
     "text": [
      "Welcome dear Edgar\n",
      "Bye everyone!\n",
      "My favourite number is 8\n",
      "yhjdtj\n"
     ]
    },
    {
     "data": {
      "text/plain": [
       "'hgh'"
      ]
     },
     "execution_count": 25,
     "metadata": {},
     "output_type": "execute_result"
    }
   ],
   "source": [
    "#Problem1\n",
    "class Person():\n",
    "    def __init__(self,name,last_name,age,gender,student,password):\n",
    "        self.name = name\n",
    "        self.last_name = last_name\n",
    "        self.age = age\n",
    "        self.gender = gender\n",
    "        self.student = student\n",
    "        self.__password = password\n",
    "    def Greeting(self, second_person):\n",
    "        print(\"Welcome dear %s\" %(second_person.name))\n",
    "    def Goodbye(self):\n",
    "        print(\"Bye everyone!\")\n",
    "    def Favourite_num(self, num1):\n",
    "        print(\"My favourite number is %d\" %(num1))\n",
    "    def Read_file(self, filename):\n",
    "        f = open(filename + \".txt\")\n",
    "        print(f.read())\n",
    "    def get_code(self):\n",
    "        return self.__password\n",
    "    def set_code(self,new):\n",
    "        self.__password = new\n",
    "\n",
    "person = Person(\"Anna\",\"Petorsyan\",23,\"female\",True,False)\n",
    "second_person = Person(\"Edgar\",\"Babayan\",23,\"male\",True,False)\n",
    "person.Greeting(second_person)\n",
    "person.Goodbye()\n",
    "person.Favourite_num(8)\n",
    "person.Read_file(\"Hello\")\n",
    "person.get_code()\n",
    "person.set_code(\"hgh\")\n",
    "person.get_code()"
   ]
  },
  {
   "cell_type": "code",
   "execution_count": 56,
   "metadata": {},
   "outputs": [
    {
     "name": "stdout",
     "output_type": "stream",
     "text": [
      "8\n",
      "-2\n",
      "15\n",
      "0.6\n"
     ]
    }
   ],
   "source": [
    "#Problem2\n",
    "class Calculation():\n",
    "    def __init__(self,x,y):\n",
    "        self.x = x\n",
    "        self.y = y\n",
    "    def addition(self):\n",
    "        print(self.x + self.y)\n",
    "    def subtraction(self):\n",
    "        print(self.x - self.y)\n",
    "class MyCalculation(Calculation):\n",
    "    def __init__(self,x,y):\n",
    "        Calculation.__init__(self,x,y)\n",
    "    def multiplication(self):\n",
    "        print(self.x * self.y)\n",
    "    def division(self):\n",
    "        print(self.x / self.y)\n",
    "\n",
    "s = MyCalculation(3,5)\n",
    "s.addition()\n",
    "s.subtraction()\n",
    "s.multiplication()\n",
    "s.division()\n",
    "        "
   ]
  },
  {
   "cell_type": "code",
   "execution_count": 58,
   "metadata": {},
   "outputs": [
    {
     "name": "stdout",
     "output_type": "stream",
     "text": [
      "The current time is 12 AM\n",
      "The current date is 12.02.2018\n"
     ]
    }
   ],
   "source": [
    "#Problem3\n",
    "class My_Time():\n",
    "    def __init__(self,t):\n",
    "        self.t = t\n",
    "    def printTime(self):\n",
    "        print(\"The current time is %s\" %(self.t))\n",
    "class My_Date():\n",
    "    def __init__(self,d):\n",
    "        self.d = d\n",
    "    def printDate(self):\n",
    "        print(\"The current date is %s\" %(self.d))\n",
    "class Date_Time(My_Date,My_Time):\n",
    "    def __init__(self,d,t):\n",
    "        My_Date.__init__(self,d)\n",
    "        My_Time.__init__(self,t)\n",
    "k = Date_Time(\"12.02.2018\",\"12 AM\")\n",
    "k.printTime()\n",
    "k.printDate()"
   ]
  },
  {
   "cell_type": "code",
   "execution_count": 53,
   "metadata": {},
   "outputs": [
    {
     "name": "stdout",
     "output_type": "stream",
     "text": [
      "The model of the vehicle is BMW\n",
      "The color of the vehicle is red\n"
     ]
    }
   ],
   "source": [
    "#Problem4\n",
    "class Model():\n",
    "    def __init__(self,name):\n",
    "        self.name = name\n",
    "    def printModel(self):\n",
    "        print(\"The model of the vehicle is %s\" %(self.name))\n",
    "class Color():\n",
    "    def __init__(self,color):\n",
    "        self.color = color\n",
    "    def printColor(self):\n",
    "        print(\"The color of the vehicle is %s\" %(self.color))\n",
    "\n",
    "class Car(Model,Color):\n",
    "    def __init__(self,model,color):\n",
    "        Model.__init__(self,model)\n",
    "        Color.__init__(self,color)\n",
    "car = Car(\"BMW\",\"red\")\n",
    "car.printModel()\n",
    "car.printColor()"
   ]
  }
 ],
 "metadata": {
  "kernelspec": {
   "display_name": "Python 3",
   "language": "python",
   "name": "python3"
  },
  "language_info": {
   "codemirror_mode": {
    "name": "ipython",
    "version": 3
   },
   "file_extension": ".py",
   "mimetype": "text/x-python",
   "name": "python",
   "nbconvert_exporter": "python",
   "pygments_lexer": "ipython3",
   "version": "3.7.4"
  }
 },
 "nbformat": 4,
 "nbformat_minor": 2
}
