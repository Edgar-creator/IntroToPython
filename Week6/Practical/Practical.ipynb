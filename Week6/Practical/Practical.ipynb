{
 "cells": [
  {
   "cell_type": "code",
   "execution_count": 7,
   "metadata": {},
   "outputs": [
    {
     "name": "stdout",
     "output_type": "stream",
     "text": [
      "A red circle with radius 5\n"
     ]
    }
   ],
   "source": [
    "#Problem1\n",
    "class Circle():\n",
    "    def __init__(self,radius,color):\n",
    "        self.radius = radius\n",
    "        self.color = color\n",
    "    def getDesc(self):\n",
    "        print(\"A %s circle with radius %d\" %(self.color,self.radius))\n",
    "circle1 = Circle(5,\"red\")\n",
    "circle1.getDesc()"
   ]
  },
  {
   "cell_type": "code",
   "execution_count": 12,
   "metadata": {},
   "outputs": [
    {
     "data": {
      "text/plain": [
       "('How are you?', 'HOW ARE YOU?')"
      ]
     },
     "execution_count": 12,
     "metadata": {},
     "output_type": "execute_result"
    }
   ],
   "source": [
    "#Problem2\n",
    "class STRing():\n",
    "    def __init__(self,my_str):\n",
    "        self.my_str = my_str\n",
    "    def get_String(self):\n",
    "        return self.my_str\n",
    "    def print_String(self):\n",
    "        return self.my_str.upper()\n",
    "str1 = STRing(\"How are you?\")\n",
    "str1.get_String(),str1.print_String()"
   ]
  },
  {
   "cell_type": "code",
   "execution_count": 23,
   "metadata": {},
   "outputs": [
    {
     "name": "stdout",
     "output_type": "stream",
     "text": [
      "Edgar Babayan\n",
      "Low\n"
     ]
    }
   ],
   "source": [
    "#Problem3\n",
    "class Employee():\n",
    "    def __init__(self,name,last_name,monthly_salary):\n",
    "        self.name = name\n",
    "        self.last_name = last_name\n",
    "        self.__monthly_salary = monthly_salary\n",
    "    def getFullName(self):\n",
    "        return self.name + \" \" + self.last_name\n",
    "    def annualSalary(self):\n",
    "        if self._Employee__monthly_salary * 12 > 100:\n",
    "            return \"High\"\n",
    "        else:\n",
    "            return \"Low\"\n",
    "emp1 = Employee(\"Edgar\",\"Babayan\",8)\n",
    "print(emp1.getFullName())\n",
    "print(emp1.annualSalary())"
   ]
  },
  {
   "cell_type": "code",
   "execution_count": 25,
   "metadata": {},
   "outputs": [
    {
     "data": {
      "text/plain": [
       "'car1 is better than car2'"
      ]
     },
     "execution_count": 25,
     "metadata": {},
     "output_type": "execute_result"
    }
   ],
   "source": [
    "#Problem4\n",
    "class Car():\n",
    "    def __init__(self,model,color,max_speed):\n",
    "        self.model = model\n",
    "        self.color = color\n",
    "        self.max_speed = max_speed\n",
    "    def compareCar(self, car2):\n",
    "        if car1.max_speed > car2.max_speed:\n",
    "            return \"car1 is better than car2\"\n",
    "        else:\n",
    "            return \"car2 is better than car1\"\n",
    "car1 = Car(\"Hyundai\",\"Blue\",274)\n",
    "car2 = Car(\"BMW\",\"Black\",227)\n",
    "car1.compareCar(car2)\n",
    "        "
   ]
  },
  {
   "cell_type": "code",
   "execution_count": 40,
   "metadata": {},
   "outputs": [
    {
     "name": "stdout",
     "output_type": "stream",
     "text": [
      "500.0\n",
      "Welcome to your car,Edgar\n"
     ]
    },
    {
     "data": {
      "text/plain": [
       "'qwerty'"
      ]
     },
     "execution_count": 40,
     "metadata": {},
     "output_type": "execute_result"
    }
   ],
   "source": [
    "#Problem5\n",
    "class Police_car():\n",
    "    tax_value = 0.2\n",
    "    def __init__(self,owner,price,pass_code):\n",
    "        self.owner = owner\n",
    "        self.price = price\n",
    "        self.__pass_code = pass_code\n",
    "    def set_code(self,new_code):\n",
    "        self.__code = new_code\n",
    "    def get_code(self,new_code):\n",
    "        return self.__code\n",
    "    def tax(self):\n",
    "        return self.tax_value * self.price\n",
    "    def greeting(self):\n",
    "        if self.__pass_code == \"admin\":\n",
    "            return \"Welcome to your car,%s\" %(self.owner)\n",
    "self1 = Police_car(\"Edgar\",2500,\"admin\")\n",
    "print(self1.tax())\n",
    "print(self1.greeting())\n",
    "self1.set_code(\"qwerty\")\n",
    "self1.get_code(\"qwerty\")"
   ]
  },
  {
   "cell_type": "code",
   "execution_count": 48,
   "metadata": {},
   "outputs": [
    {
     "data": {
      "text/plain": [
       "'I can run really fas'"
      ]
     },
     "execution_count": 48,
     "metadata": {},
     "output_type": "execute_result"
    }
   ],
   "source": [
    "#Problem6\n",
    "class Animal():\n",
    "    def __init__(self,name):\n",
    "        self.name = name\n",
    "    def move(self):\n",
    "        print(\"I can move\")\n",
    "\n",
    "class Dog(Animal):\n",
    "    def __init__(self):\n",
    "        Animal.__init__(self,\"Dog\")\n",
    "    def move(self):\n",
    "        return \"I can run really fas\"\n",
    "d = Dog()\n",
    "d.move()"
   ]
  },
  {
   "cell_type": "code",
   "execution_count": 69,
   "metadata": {},
   "outputs": [
    {
     "data": {
      "text/plain": [
       "'My name is Exnik'"
      ]
     },
     "execution_count": 69,
     "metadata": {},
     "output_type": "execute_result"
    }
   ],
   "source": [
    "#Problem7\n",
    "class Animal():\n",
    "    def __init__(self,name,legs):\n",
    "        self.name = name\n",
    "        self.legs = legs\n",
    "    def getName(self):\n",
    "        return \"My name is %s\" %(self.name)\n",
    "    def getLegs(self):\n",
    "        return \"I have %d legs\" %(self.legs)\n",
    "\n",
    "class Exnik(Animal):\n",
    "    def __init__(self):\n",
    "        Animal.__init__(self,\"Exnik\",4)\n",
    "a = Exnik()\n",
    "a.getName()\n",
    "        "
   ]
  },
  {
   "cell_type": "code",
   "execution_count": 71,
   "metadata": {},
   "outputs": [
    {
     "data": {
      "text/plain": [
       "'I believe I can fly'"
      ]
     },
     "execution_count": 71,
     "metadata": {},
     "output_type": "execute_result"
    }
   ],
   "source": [
    "#Problem8\n",
    "import abc\n",
    "class Bird():\n",
    "    def __init__(self,name,weight):\n",
    "        self.name = name\n",
    "        self.weight = weight\n",
    "    @abc.abstractmethod\n",
    "    def fly(self):\n",
    "        pass\n",
    "class Hav(Bird):\n",
    "    def __init__(self):\n",
    "        Bird.__init__(self,\"Hav\",2)\n",
    "    def fly(self):\n",
    "        return \"I believe I can fly\"\n",
    "h = Hav()\n",
    "h.fly()"
   ]
  },
  {
   "cell_type": "code",
   "execution_count": null,
   "metadata": {},
   "outputs": [],
   "source": []
  }
 ],
 "metadata": {
  "kernelspec": {
   "display_name": "Python 3",
   "language": "python",
   "name": "python3"
  },
  "language_info": {
   "codemirror_mode": {
    "name": "ipython",
    "version": 3
   },
   "file_extension": ".py",
   "mimetype": "text/x-python",
   "name": "python",
   "nbconvert_exporter": "python",
   "pygments_lexer": "ipython3",
   "version": "3.7.4"
  }
 },
 "nbformat": 4,
 "nbformat_minor": 2
}
